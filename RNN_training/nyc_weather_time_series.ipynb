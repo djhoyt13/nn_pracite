{
 "cells": [
  {
   "cell_type": "code",
   "execution_count": 14,
   "metadata": {},
   "outputs": [],
   "source": [
    "import pandas as pd\n",
    "import numpy as np\n",
    "import torch\n",
    "import torch.nn as nn\n",
    "from sklearn.preprocessing import MinMaxScaler\n",
    "from sklearn.model_selection import train_test_split\n",
    "from torch.utils.data import Dataset, DataLoader"
   ]
  },
  {
   "cell_type": "markdown",
   "metadata": {},
   "source": [
    "### Clean the data"
   ]
  },
  {
   "cell_type": "code",
   "execution_count": 16,
   "metadata": {},
   "outputs": [
    {
     "data": {
      "text/html": [
       "<div>\n",
       "<style scoped>\n",
       "    .dataframe tbody tr th:only-of-type {\n",
       "        vertical-align: middle;\n",
       "    }\n",
       "\n",
       "    .dataframe tbody tr th {\n",
       "        vertical-align: top;\n",
       "    }\n",
       "\n",
       "    .dataframe thead th {\n",
       "        text-align: right;\n",
       "    }\n",
       "</style>\n",
       "<table border=\"1\" class=\"dataframe\">\n",
       "  <thead>\n",
       "    <tr style=\"text-align: right;\">\n",
       "      <th></th>\n",
       "      <th>STATION</th>\n",
       "      <th>NAME</th>\n",
       "      <th>DATE</th>\n",
       "      <th>TMAX</th>\n",
       "      <th>TMIN</th>\n",
       "      <th>year</th>\n",
       "      <th>month</th>\n",
       "      <th>day</th>\n",
       "      <th>day_of_week</th>\n",
       "    </tr>\n",
       "  </thead>\n",
       "  <tbody>\n",
       "    <tr>\n",
       "      <th>0</th>\n",
       "      <td>USW00094728</td>\n",
       "      <td>NY CITY CENTRAL PARK, NY US</td>\n",
       "      <td>1869-12-01</td>\n",
       "      <td>62</td>\n",
       "      <td>33</td>\n",
       "      <td>1869</td>\n",
       "      <td>12</td>\n",
       "      <td>1</td>\n",
       "      <td>2</td>\n",
       "    </tr>\n",
       "    <tr>\n",
       "      <th>1</th>\n",
       "      <td>USW00094728</td>\n",
       "      <td>NY CITY CENTRAL PARK, NY US</td>\n",
       "      <td>1869-12-02</td>\n",
       "      <td>33</td>\n",
       "      <td>24</td>\n",
       "      <td>1869</td>\n",
       "      <td>12</td>\n",
       "      <td>2</td>\n",
       "      <td>3</td>\n",
       "    </tr>\n",
       "    <tr>\n",
       "      <th>2</th>\n",
       "      <td>USW00094728</td>\n",
       "      <td>NY CITY CENTRAL PARK, NY US</td>\n",
       "      <td>1869-12-03</td>\n",
       "      <td>29</td>\n",
       "      <td>16</td>\n",
       "      <td>1869</td>\n",
       "      <td>12</td>\n",
       "      <td>3</td>\n",
       "      <td>4</td>\n",
       "    </tr>\n",
       "    <tr>\n",
       "      <th>3</th>\n",
       "      <td>USW00094728</td>\n",
       "      <td>NY CITY CENTRAL PARK, NY US</td>\n",
       "      <td>1869-12-04</td>\n",
       "      <td>37</td>\n",
       "      <td>15</td>\n",
       "      <td>1869</td>\n",
       "      <td>12</td>\n",
       "      <td>4</td>\n",
       "      <td>5</td>\n",
       "    </tr>\n",
       "    <tr>\n",
       "      <th>4</th>\n",
       "      <td>USW00094728</td>\n",
       "      <td>NY CITY CENTRAL PARK, NY US</td>\n",
       "      <td>1869-12-05</td>\n",
       "      <td>39</td>\n",
       "      <td>35</td>\n",
       "      <td>1869</td>\n",
       "      <td>12</td>\n",
       "      <td>5</td>\n",
       "      <td>6</td>\n",
       "    </tr>\n",
       "  </tbody>\n",
       "</table>\n",
       "</div>"
      ],
      "text/plain": [
       "       STATION                         NAME       DATE  TMAX  TMIN  year  \\\n",
       "0  USW00094728  NY CITY CENTRAL PARK, NY US 1869-12-01    62    33  1869   \n",
       "1  USW00094728  NY CITY CENTRAL PARK, NY US 1869-12-02    33    24  1869   \n",
       "2  USW00094728  NY CITY CENTRAL PARK, NY US 1869-12-03    29    16  1869   \n",
       "3  USW00094728  NY CITY CENTRAL PARK, NY US 1869-12-04    37    15  1869   \n",
       "4  USW00094728  NY CITY CENTRAL PARK, NY US 1869-12-05    39    35  1869   \n",
       "\n",
       "   month  day  day_of_week  \n",
       "0     12    1            2  \n",
       "1     12    2            3  \n",
       "2     12    3            4  \n",
       "3     12    4            5  \n",
       "4     12    5            6  "
      ]
     },
     "execution_count": 16,
     "metadata": {},
     "output_type": "execute_result"
    }
   ],
   "source": [
    "# Read the NYC weather data\n",
    "df = pd.read_csv('nyc_weather.csv')\n",
    "\n",
    "# Keep only the specified columns\n",
    "columns_to_keep = ['STATION', 'NAME', 'DATE', 'TMAX', 'TMIN']\n",
    "df = df[columns_to_keep].copy()\n",
    "\n",
    "# Convert DATE to datetime - ensure proper conversion\n",
    "df['DATE'] = pd.to_datetime(df['DATE'], format='%Y-%m-%d', errors='coerce')\n",
    "\n",
    "# Drop any rows where DATE conversion failed\n",
    "df = df.dropna(subset=['DATE'])\n",
    "\n",
    "# Sort by date\n",
    "df = df.sort_values('DATE')\n",
    "\n",
    "# Create features for time\n",
    "df['year'] = df['DATE'].dt.year\n",
    "df['month'] = df['DATE'].dt.month\n",
    "df['day'] = df['DATE'].dt.day\n",
    "df['day_of_week'] = df['DATE'].dt.dayofweek\n",
    "\n",
    "clean_df.head()"
   ]
  },
  {
   "cell_type": "markdown",
   "metadata": {},
   "source": [
    "### Normalize Data"
   ]
  },
  {
   "cell_type": "code",
   "execution_count": 17,
   "metadata": {},
   "outputs": [],
   "source": [
    "# Select features for the model\n",
    "feature_columns = ['TMAX', 'TMIN', 'year', 'month', 'day', 'day_of_week']\n",
    "\n",
    "# Normalize the features\n",
    "scaler = MinMaxScaler()\n",
    "scaled_data = scaler.fit_transform(df[feature_columns])\n",
    "scaled_df = pd.DataFrame(scaled_data, columns=feature_columns)\n",
    "\n",
    "print()"
   ]
  },
  {
   "cell_type": "markdown",
   "metadata": {},
   "source": []
  },
  {
   "cell_type": "code",
   "execution_count": null,
   "metadata": {},
   "outputs": [],
   "source": []
  }
 ],
 "metadata": {
  "kernelspec": {
   "display_name": ".venv",
   "language": "python",
   "name": "python3"
  },
  "language_info": {
   "codemirror_mode": {
    "name": "ipython",
    "version": 3
   },
   "file_extension": ".py",
   "mimetype": "text/x-python",
   "name": "python",
   "nbconvert_exporter": "python",
   "pygments_lexer": "ipython3",
   "version": "3.12.1"
  }
 },
 "nbformat": 4,
 "nbformat_minor": 2
}
